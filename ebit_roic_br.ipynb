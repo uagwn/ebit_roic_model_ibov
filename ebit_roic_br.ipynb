{
 "cells": [
  {
   "cell_type": "code",
   "execution_count": 2,
   "id": "a043c3f7-21bf-4096-ba89-97ed9869a6c3",
   "metadata": {
    "tags": []
   },
   "outputs": [
    {
     "name": "stderr",
     "output_type": "stream",
     "text": [
      "C:\\Users\\wagny\\AppData\\Local\\Temp\\ipykernel_11092\\3298434028.py:19: FutureWarning: The default value of regex will change from True to False in a future version. In addition, single character regular expressions will *not* be treated as literal strings when regex=True.\n",
      "  tabela['ROIC'] = tabela['ROIC'].str.replace(\".\", \"\")\n"
     ]
    },
    {
     "name": "stdout",
     "output_type": "stream",
     "text": [
      "Index(['PSSA3', 'CMIN3', 'PETR4', 'WIZC3', 'PETR3', 'VLID3', 'VALE3', 'UNIP6',\n",
      "       'LEVE3', 'CMIG4', 'LREN3', 'PLPL3'],\n",
      "      dtype='object', name='Papel')\n"
     ]
    }
   ],
   "source": [
    "def main():\n",
    "    from selenium import webdriver\n",
    "    from selenium.webdriver.chrome.service import Service\n",
    "    from webdriver_manager.chrome import ChromeDriverManager\n",
    "    import pandas as pd\n",
    "    from time import sleep\n",
    "    driver = webdriver.Chrome()\n",
    "    url = 'https://www.fundamentus.com.br/resultado.php'\n",
    "    driver.get(url)  \n",
    "    local_tabela = '/html/body/div[1]/div[2]/table'\n",
    "    elemento = driver.find_element(\"xpath\", local_tabela)\n",
    "    html_tabela = elemento.get_attribute('outerHTML')\n",
    "    tabela = pd.read_html(str(html_tabela), thousands = '.', decimal = ',')[0]\n",
    "    \n",
    "\n",
    "    tabela = tabela.set_index(\"Papel\")\n",
    "    tabela = tabela[['Cotação', 'EV/EBIT', 'ROIC', 'Liq.2meses']]\n",
    "    tabela['ROIC'] = tabela['ROIC'].str.replace(\"%\", \"\")\n",
    "    tabela['ROIC'] = tabela['ROIC'].str.replace(\".\", \"\")\n",
    "    tabela['ROIC'] = tabela['ROIC'].str.replace(\",\", \".\")\n",
    "    tabela['ROIC'] = tabela['ROIC'].astype(float)\n",
    "\n",
    "    tabela = tabela[tabela['Liq.2meses'] > 1000000]\n",
    "    tabela = tabela[tabela['EV/EBIT'] > 0]\n",
    "    tabela = tabela[tabela['ROIC'] > 0]\n",
    "\n",
    "    tabela['ranking_ev_ebit'] = tabela['EV/EBIT'].rank(ascending = True)\n",
    "    tabela['ranking_roic'] = tabela['ROIC'].rank(ascending = False)\n",
    "    tabela['ranking_total'] = tabela['ranking_ev_ebit'] + tabela['ranking_roic']\n",
    "\n",
    "    tabela = tabela.sort_values('ranking_total')\n",
    "\n",
    "    tabela = tabela.head(12)\n",
    "    tabela\n",
    "    tickers = tabela.index\n",
    "    print(tickers)\n",
    "    \n",
    "\n",
    "\n",
    "if __name__ == \"__main__\":\n",
    "   main()"
   ]
  },
  {
   "cell_type": "code",
   "execution_count": null,
   "id": "86193ef6-94e2-4a85-bded-89c15ba9c92a",
   "metadata": {},
   "outputs": [],
   "source": []
  }
 ],
 "metadata": {
  "kernelspec": {
   "display_name": "Python 3 (ipykernel)",
   "language": "python",
   "name": "python3"
  },
  "language_info": {
   "codemirror_mode": {
    "name": "ipython",
    "version": 3
   },
   "file_extension": ".py",
   "mimetype": "text/x-python",
   "name": "python",
   "nbconvert_exporter": "python",
   "pygments_lexer": "ipython3",
   "version": "3.11.4"
  }
 },
 "nbformat": 4,
 "nbformat_minor": 5
}
